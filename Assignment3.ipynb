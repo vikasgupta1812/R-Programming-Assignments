{
 "cells": [
  {
   "cell_type": "markdown",
   "metadata": {},
   "source": [
    "Assignment # 3\n",
    "========================================================\n",
    "Qustion#1\n",
    "Download the file"
   ]
  },
  {
   "cell_type": "code",
   "execution_count": null,
   "metadata": {},
   "outputs": [],
   "source": [
    "%%R\n",
    "fileUrl <- \"https://d396qusza40orc.cloudfront.net/rprog%2Fdata%2FProgAssignment3-data.zip\"\n",
    "\n",
    "if (!file.exists(\"Assignment3-data.zip\")) {\n",
    "    download.file(fileUrl, destfile = \"Assignment3-data.zip\", method = \"wget\")\n",
    "}"
   ]
  },
  {
   "cell_type": "markdown",
   "metadata": {},
   "source": [
    "Unzip the file"
   ]
  },
  {
   "cell_type": "code",
   "execution_count": null,
   "metadata": {},
   "outputs": [],
   "source": [
    "%%R\n",
    "if (!file.exists(\"Assignment3-data\")) {\n",
    "    unzip(\"Assignment3-data.zip\", overwrite = TRUE)\n",
    "}"
   ]
  },
  {
   "cell_type": "markdown",
   "metadata": {},
   "source": [
    "Get current working directory"
   ]
  },
  {
   "cell_type": "code",
   "execution_count": null,
   "metadata": {},
   "outputs": [],
   "source": [
    "%%R\n",
    "getwd()"
   ]
  },
  {
   "cell_type": "markdown",
   "metadata": {},
   "source": [
    "1- Plot the 30-day mortality rates for heart attack\n",
    "\n",
    "read file"
   ]
  },
  {
   "cell_type": "code",
   "execution_count": null,
   "metadata": {},
   "outputs": [],
   "source": [
    "%%R\n",
    "outcome <- read.csv(\"outcome-of-care-measures.csv\", colClasses = \"character\")\n",
    "head(outcome)"
   ]
  },
  {
   "cell_type": "markdown",
   "metadata": {},
   "source": [
    "Number of columns"
   ]
  },
  {
   "cell_type": "code",
   "execution_count": null,
   "metadata": {},
   "outputs": [],
   "source": [
    "%%R\n",
    "ncol(outcome)"
   ]
  },
  {
   "cell_type": "markdown",
   "metadata": {},
   "source": [
    "Names of columns"
   ]
  },
  {
   "cell_type": "code",
   "execution_count": null,
   "metadata": {},
   "outputs": [],
   "source": [
    "%%R\n",
    "names(outcome)"
   ]
  },
  {
   "cell_type": "markdown",
   "metadata": {},
   "source": [
    "Make a simple histogram of the 30-day death rates from heart attack (column 11 in the outcome dataset)"
   ]
  },
  {
   "cell_type": "code",
   "execution_count": null,
   "metadata": {},
   "outputs": [],
   "source": [
    "%%R\n",
    "names(outcome)[11]\n",
    "outcome[, 11] <- as.numeric(outcome[, 11])\n",
    "## You may get a warning about NAs being introduced; that is okay"
   ]
  },
  {
   "cell_type": "markdown",
   "metadata": {},
   "source": [
    "histogram"
   ]
  },
  {
   "cell_type": "code",
   "execution_count": null,
   "metadata": {},
   "outputs": [],
   "source": [
    "%%R\n",
    "hist(outcome[, 11])"
   ]
  },
  {
   "cell_type": "markdown",
   "metadata": {},
   "source": [
    "##2 Finding the best hospital in a state\n",
    "=================================================\n",
    "Write a function called best that take two arguments: the 2-character abbreviated name of a state and an outcome name. The function reads the outcome-of-care-measures.csv file and returns a character vector with the name of the hospital that has the best (i.e. lowest) 30-day mortality for the specified outcome in that state. The hospital name is the name provided in the Hospital.Name variable. \n",
    "\n",
    "The outcomes can be one of “heart attack”, “heart failure”, or “pneumonia”. \n",
    "\n",
    "Hospitals that do not have data on a particular outcome should be excluded from the set of hospitals when deciding the rankings."
   ]
  },
  {
   "cell_type": "code",
   "execution_count": null,
   "metadata": {},
   "outputs": [],
   "source": [
    "%%R\n",
    "best  <- function(state, outcome) {\n",
    "  ## Read outcome data \n",
    "  df  <- read.csv('./outcome-of-care-measures.csv',\n",
    "      colClasses=c('Hospital.30.Day.Death..Mortality..Rates.from.Heart.Attack'='character',\n",
    "                   'Hospital.30.Day.Death..Mortality..Rates.from.Heart.Failure'='character',\n",
    "                   'Hospital.30.Day.Death..Mortality..Rates.from.Pneumonia'='character',\n",
    "                   'Hospital.Name'='character'))\n",
    "  suppressWarnings(class(df$Hospital.30.Day.Death..Mortality..Rates.from.Heart.Attack)  <- 'numeric')\n",
    "  suppressWarnings(class(df$Hospital.30.Day.Death..Mortality..Rates.from.Heart.Failure)  <- 'numeric')\n",
    "  suppressWarnings(class(df$Hospital.30.Day.Death..Mortality..Rates.from.Pneumonia)  <- 'numeric')\n",
    "\n",
    "  ## Check that state and outome are valid\n",
    "  outcomes   <- c(\"heart attack\",\"heart failure\",\"pneumonia\")\n",
    "  if (!(state %in% df$State)) {\n",
    "    stop(\"invalid state\")\n",
    "  }\n",
    "  \n",
    "  if (!(outcome %in% outcomes)) {\n",
    "    stop(\"invalid outcome\")\n",
    "  }\n",
    "  \n",
    "  ## Return hospital name in that state with lowest 30-day death rate\n",
    "  ## \n",
    "  df1  <- df[df$State == state,]      # Subset of data for specific state.\n",
    "  if (outcome == \"heart attack\") {\n",
    "    return(min(df1[df1$Hospital.30.Day.Death..Mortality..Rates.from.Heart.Attack == min(df1$Hospital.30.Day.Death..Mortality..Rates.from.Heart.Attack,na.rm = T), 2],na.rm = T))\n",
    "  } else if (outcome == \"heart failure\") {\n",
    "    return(min(df1[df1$Hospital.30.Day.Death..Mortality..Rates.from.Heart.Failure == min(df1$Hospital.30.Day.Death..Mortality..Rates.from.Heart.Failure,na.rm = T), 2],na.rm = T))\n",
    "  } else if (outcome == \"pneumonia\") {\n",
    "    return(min(df1[df1$Hospital.30.Day.Death..Mortality..Rates.from.Pneumonia == min(df1$Hospital.30.Day.Death..Mortality..Rates.from.Pneumonia,na.rm = T), 2],na.rm = T))\n",
    "  }\n",
    "}"
   ]
  },
  {
   "cell_type": "markdown",
   "metadata": {},
   "source": [
    "Unit tests"
   ]
  },
  {
   "cell_type": "code",
   "execution_count": null,
   "metadata": {},
   "outputs": [],
   "source": [
    "%%R\n",
    "rm(list = ls())\n",
    "best(\"TX\", \"heart attack\")\n",
    "best(\"TX\", \"heart failure\")\n",
    "best(\"MD\", \"heart attack\")\n",
    "best(\"MD\", \"pneumonia\")\n",
    "best(\"BB\", \"heart attack\")\n",
    "best(\"NY\", \"hert attack\")\n",
    "best(\"SC\", \"heart attack\")\n",
    "best(\"NY\", \"pneumonia\") # [1] \"ALBANY MEDICAL CENTER HOSPITAL\"  ## Incorrect results\n",
    "best(\"NN\", \"pneumonia\")"
   ]
  },
  {
   "cell_type": "markdown",
   "metadata": {},
   "source": [
    "Submission"
   ]
  },
  {
   "cell_type": "code",
   "execution_count": null,
   "metadata": {},
   "outputs": [],
   "source": [
    "%%R\n",
    "source(\"http://d396qusza40orc.cloudfront.net/rprog%2Fscripts%2Fsubmitscript3.R\")\n",
    "submit()"
   ]
  },
  {
   "cell_type": "code",
   "execution_count": null,
   "metadata": {},
   "outputs": [],
   "source": [
    "%%R\n",
    "?read.csv"
   ]
  },
  {
   "cell_type": "code",
   "execution_count": null,
   "metadata": {},
   "outputs": [],
   "source": [
    "%%R\n",
    "  df  <- read.csv('./outcome-of-care-measures.csv',\n",
    "      colClasses=c('Hospital.30.Day.Death..Mortality..Rates.from.Heart.Attack'='character',\n",
    "                   'Hospital.30.Day.Death..Mortality..Rates.from.Heart.Failure'='character',\n",
    "                   'Hospital.30.Day.Death..Mortality..Rates.from.Pneumonia'='character',\n",
    "                   'Hospital.Name'='character'))\n",
    "head(df$State)"
   ]
  },
  {
   "cell_type": "code",
   "execution_count": null,
   "metadata": {},
   "outputs": [],
   "source": [
    "%%R\n",
    "class(df$Hospital.30.Day.Death..Mortality..Rates.from.Heart.Attack[1:10])"
   ]
  },
  {
   "cell_type": "code",
   "execution_count": null,
   "metadata": {},
   "outputs": [],
   "source": [
    "%%R\n",
    "class(df$State)"
   ]
  },
  {
   "cell_type": "code",
   "execution_count": null,
   "metadata": {},
   "outputs": [],
   "source": [
    "%%R\n",
    "\"BB\" %in% df$State ## To Check if State is valid.\n",
    "\"AL\" %in% df$State"
   ]
  },
  {
   "cell_type": "code",
   "execution_count": null,
   "metadata": {},
   "outputs": [],
   "source": [
    "%%R\n",
    "head(df$Hospital.Name)"
   ]
  },
  {
   "cell_type": "code",
   "execution_count": null,
   "metadata": {},
   "outputs": [],
   "source": [
    "%%R\n",
    "outcomes   <- c(\"heart attack\",\"heart failure\",\"pneumonia\")\n",
    "\"heart attack\" %in% outcomes\n",
    "\"hert attack\" %in% outcomes"
   ]
  },
  {
   "cell_type": "code",
   "execution_count": null,
   "metadata": {},
   "outputs": [],
   "source": [
    "%%R\n",
    "if (!(\"BB\" %in% df$State)) {\n",
    "  stop(\"invalid state\")\n",
    "}"
   ]
  },
  {
   "cell_type": "code",
   "execution_count": null,
   "metadata": {},
   "outputs": [],
   "source": [
    "%%R\n",
    "if (!(\"hert attack\" %in% outcomes)) {\n",
    "  stop(\"invalid outcome\")\n",
    "}"
   ]
  },
  {
   "cell_type": "code",
   "execution_count": null,
   "metadata": {},
   "outputs": [],
   "source": [
    "%%R\n",
    "df$Hospital.30.Day.Death..Mortality..Rates.from.Heart.Attack\n",
    "str(df$Hospital.30.Day.Death..Mortality..Rates.from.Heart.Attack)"
   ]
  },
  {
   "cell_type": "markdown",
   "metadata": {},
   "source": [
    "Find NA values"
   ]
  },
  {
   "cell_type": "code",
   "execution_count": null,
   "metadata": {},
   "outputs": [],
   "source": [
    "%%R\n",
    "df$Hospital.30.Day.Death..Mortality..Rates.from.Heart.Attack == \"Not Available\""
   ]
  },
  {
   "cell_type": "code",
   "execution_count": null,
   "metadata": {},
   "outputs": [],
   "source": [
    "%%R\n",
    "df$Hospital.30.Day.Death..Mortality..Rates.from.Heart.Attack[1:10]\n",
    "#as.numeric(df$Hospital.30.Day.Death..Mortality..Rates.from.Heart.Attack)[1:10]\n",
    "#as.character(df$Hospital.30.Day.Death..Mortality..Rates.from.Heart.Attack)[1:10]\n",
    "as.numeric(df$Hospital.30.Day.Death..Mortality..Rates.from.Heart.Attack)[1:10]"
   ]
  },
  {
   "cell_type": "markdown",
   "metadata": {},
   "source": [
    "Max and Min\n",
    "[refer-1](http://stat.ethz.ch/R-manual/R-devel/library/base/html/Extremes.html)"
   ]
  },
  {
   "cell_type": "code",
   "execution_count": null,
   "metadata": {},
   "outputs": [],
   "source": [
    "%%R\n",
    "max(as.numeric(df$Hospital.30.Day.Death..Mortality..Rates.from.Heart.Attack))\n",
    "min(as.numeric(df$Hospital.30.Day.Death..Mortality..Rates.from.Heart.Attack))\n",
    "max(as.numeric(df$Hospital.30.Day.Death..Mortality..Rates.from.Heart.Attack),na.rm = T)\n",
    "min(as.numeric(df$Hospital.30.Day.Death..Mortality..Rates.from.Heart.Attack),na.rm = T)"
   ]
  },
  {
   "cell_type": "code",
   "execution_count": null,
   "metadata": {},
   "outputs": [],
   "source": [
    "%%R\n",
    "max(df$Hospital.30.Day.Death..Mortality..Rates.from.Heart.Attack,na.rm = T)\n",
    "min(df$Hospital.30.Day.Death..Mortality..Rates.from.Heart.Attack,na.rm = T)"
   ]
  },
  {
   "cell_type": "code",
   "execution_count": null,
   "metadata": {},
   "outputs": [],
   "source": [
    "%%R\n",
    "df$Hospital.30.Day.Death..Mortality..Rates.from.Heart.Attack == min(df$Hospital.30.Day.Death..Mortality..Rates.from.Heart.Attack,na.rm = T)"
   ]
  },
  {
   "cell_type": "code",
   "execution_count": null,
   "metadata": {},
   "outputs": [],
   "source": [
    "%%R\n",
    "any(df$Hospital.30.Day.Death..Mortality..Rates.from.Heart.Attack == min(df$Hospital.30.Day.Death..Mortality..Rates.from.Heart.Attack,na.rm = T))"
   ]
  },
  {
   "cell_type": "code",
   "execution_count": null,
   "metadata": {},
   "outputs": [],
   "source": [
    "%%R\n",
    "sum(df$Hospital.30.Day.Death..Mortality..Rates.from.Heart.Attack == min(df$Hospital.30.Day.Death..Mortality..Rates.from.Heart.Attack,na.rm = T))"
   ]
  },
  {
   "cell_type": "markdown",
   "metadata": {},
   "source": [
    "Number of matches found"
   ]
  },
  {
   "cell_type": "code",
   "execution_count": null,
   "metadata": {},
   "outputs": [],
   "source": [
    "%%R\n",
    "sum(df$Hospital.30.Day.Death..Mortality..Rates.from.Heart.Attack == min(df$Hospital.30.Day.Death..Mortality..Rates.from.Heart.Attack,na.rm = T))"
   ]
  },
  {
   "cell_type": "code",
   "execution_count": null,
   "metadata": {},
   "outputs": [],
   "source": [
    "%%R\n",
    "df[df$Hospital.30.Day.Death..Mortality..Rates.from.Heart.Attack == min(df$Hospital.30.Day.Death..Mortality..Rates.from.Heart.Attack,na.rm = T), 2]"
   ]
  },
  {
   "cell_type": "markdown",
   "metadata": {},
   "source": [
    "Find the details for Texas"
   ]
  },
  {
   "cell_type": "code",
   "execution_count": null,
   "metadata": {},
   "outputs": [],
   "source": [
    "%%R\n",
    "df1  <- df[df$State == \"TX\",]"
   ]
  },
  {
   "cell_type": "code",
   "execution_count": null,
   "metadata": {},
   "outputs": [],
   "source": [
    "%%R\n",
    "df1[df1$Hospital.30.Day.Death..Mortality..Rates.from.Heart.Attack == min(df1$Hospital.30.Day.Death..Mortality..Rates.from.Heart.Attack,na.rm = T), 2]"
   ]
  },
  {
   "cell_type": "markdown",
   "metadata": {},
   "source": [
    "Resolve Conflict by choosing the first hospital in alphabetical order"
   ]
  },
  {
   "cell_type": "code",
   "execution_count": null,
   "metadata": {},
   "outputs": [],
   "source": [
    "%%R\n",
    "min(df1[df1$Hospital.30.Day.Death..Mortality..Rates.from.Heart.Attack == min(df1$Hospital.30.Day.Death..Mortality..Rates.from.Heart.Attack,na.rm = T), 2])"
   ]
  },
  {
   "cell_type": "markdown",
   "metadata": {},
   "source": [
    "Find the details for MD"
   ]
  },
  {
   "cell_type": "code",
   "execution_count": null,
   "metadata": {},
   "outputs": [],
   "source": [
    "%%R\n",
    "df1  <- df[df$State == \"MD\",]"
   ]
  },
  {
   "cell_type": "code",
   "execution_count": null,
   "metadata": {},
   "outputs": [],
   "source": [
    "%%R\n",
    "df1[df1$Hospital.30.Day.Death..Mortality..Rates.from.Pneumonia == min(df1$Hospital.30.Day.Death..Mortality..Rates.from.Pneumonia,na.rm = T), 2]"
   ]
  },
  {
   "cell_type": "markdown",
   "metadata": {},
   "source": [
    "Find the details for NY"
   ]
  },
  {
   "cell_type": "code",
   "execution_count": null,
   "metadata": {},
   "outputs": [],
   "source": [
    "%%R\n",
    "df1  <- df[df$State == \"NY\",]"
   ]
  },
  {
   "cell_type": "code",
   "execution_count": null,
   "metadata": {},
   "outputs": [],
   "source": [
    "%%R\n",
    "df1[df1$Hospital.30.Day.Death..Mortality..Rates.from.Pneumonia == min(df1$Hospital.30.Day.Death..Mortality..Rates.from.Pneumonia,na.rm = T), 2]"
   ]
  },
  {
   "cell_type": "code",
   "execution_count": null,
   "metadata": {},
   "outputs": [],
   "source": [
    "%%R\n",
    "min(df1[df1$Hospital.30.Day.Death..Mortality..Rates.from.Pneumonia == min(df1$Hospital.30.Day.Death..Mortality..Rates.from.Pneumonia,na.rm = T), 2])\n",
    "\n",
    "min(df1$Hospital.30.Day.Death..Mortality..Rates.from.Pneumonia)\n",
    "sum(df1$Hospital.30.Day.Death..Mortality..Rates.from.Pneumonia == 10.0)\n",
    "sum(df1$Hospital.30.Day.Death..Mortality..Rates.from.Pneumonia == \"10.0\")"
   ]
  },
  {
   "cell_type": "markdown",
   "metadata": {},
   "source": [
    "Question#3\n",
    "=================================================\n",
    "##Ranking hospitals by outcome in a state\n",
    "\n",
    "\n",
    "Write a function called rankhospital that takes three arguments: the 2-character abbreviated name of a state (state), an outcome (outcome), and the ranking of a hospital in that state for that outcome (num). The function reads the outcome-of-care-measures.csv file and returns a character vector with the name of the hospital that has the ranking specified by the num argument. For example, the call"
   ]
  },
  {
   "cell_type": "code",
   "execution_count": null,
   "metadata": {},
   "outputs": [],
   "source": [
    "%%R\n",
    "rm(list = ls())"
   ]
  },
  {
   "cell_type": "code",
   "execution_count": null,
   "metadata": {},
   "outputs": [],
   "source": [
    "%%R\n",
    "rankhospital  <- function(state, outcome, num) {\n",
    "  # Read the file outcome-of-care-measures.csv\n",
    "  df  <- read.csv('./outcome-of-care-measures.csv',\n",
    "      colClasses=c('Hospital.30.Day.Death..Mortality..Rates.from.Heart.Attack'='character',\n",
    "                   'Hospital.30.Day.Death..Mortality..Rates.from.Heart.Failure'='character',\n",
    "                   'Hospital.30.Day.Death..Mortality..Rates.from.Pneumonia'='character',\n",
    "                   'Hospital.Name'='character'))\n",
    "\n",
    "  df[,11]  <- suppressWarnings(as.numeric(df[,11]))\n",
    "  df[,17]  <- suppressWarnings(as.numeric(df[,17]))\n",
    "  df[,23]  <- suppressWarnings(as.numeric(df[,23]))\n",
    "  \n",
    "  outcomes  <- c(\"heart attack\", \"heart failure\", \"pneumonia\")\n",
    "  \n",
    "  if (!(state %in% df$State)) {\n",
    "    stop(\"invalid state\")\n",
    "  }\n",
    "  \n",
    "  if (!(outcome %in% outcomes)) {\n",
    "    stop(\"invalid outcome\")\n",
    "  }\n",
    "  \n",
    "  \n",
    "  if(outcome == \"heart attack\") {\n",
    "  df1  <- df[df$State == state,c(2,11)]\n",
    "  names(df1)[2]  <- \"Rate\"\n",
    "  }\n",
    "  \n",
    "  if(outcome == \"heart failure\") {\n",
    "    df1  <- df[df$State == state,c(2,17)]\n",
    "    names(df1)[2]  <- \"Rate\"\n",
    "  }\n",
    "  \n",
    "  \n",
    "  if(outcome == \"pneumonia\") {\n",
    "    df1  <- df[df$State == state,c(2,23)]\n",
    "    names(df1)[2]  <- \"Rate\"\n",
    "  }\n",
    "  # Remove rows where Ratings are not known.\n",
    "  df1  <- df1[!is.na(df1$Rate),]\n",
    "  # Order the dataframe by Names to help in Ranking\n",
    "  df1  <- df1[order(df1[1]),]\n",
    "  #head(df1)\n",
    "  #tail(df1)\n",
    "  \n",
    "  # Set Rank \n",
    "  df1$rank  <- rank(df1$Rate,ties.method=\"first\")\n",
    "  \n",
    "  # Return the values based on data provided\n",
    "  if (num == \"best\") {\n",
    "  return (df1[df1$rank == min(df1$rank),1])\n",
    "  } else if (num == \"worst\") {\n",
    "    return (df1[df1$rank == max(df1$rank),1])\n",
    "  } else if ((num <= max(df1$rank)) | (num >= min(df1$rank))) {\n",
    "    return (df1[df1$rank == num,1])\n",
    "  } else if ((num > max(df1$rank)) | (num < min(df1$rank))){\n",
    "    NA\n",
    "  } \n",
    "}"
   ]
  },
  {
   "cell_type": "markdown",
   "metadata": {},
   "source": [
    "Unit tests"
   ]
  },
  {
   "cell_type": "code",
   "execution_count": null,
   "metadata": {},
   "outputs": [],
   "source": [
    "%%R\n",
    "rm(list = ls())\n",
    "rankhospital(\"TX\", \"heart failure\", 4)\n",
    "rankhospital(\"MD\", \"heart attack\", \"worst\")\n",
    "rankhospital(\"MD\", \"heart attack\", \"best\")\n",
    "rankhospital(\"MN\", \"heart attack\", 5000)\n",
    "rankhospital(\"WA\", \"pneumonia\", 1000)"
   ]
  },
  {
   "cell_type": "markdown",
   "metadata": {},
   "source": [
    "Submission"
   ]
  },
  {
   "cell_type": "code",
   "execution_count": null,
   "metadata": {},
   "outputs": [],
   "source": [
    "%%R\n",
    "rm(list = ls())\n",
    "source(\"http://d396qusza40orc.cloudfront.net/rprog%2Fscripts%2Fsubmitscript3.R\")\n",
    "submit()"
   ]
  },
  {
   "cell_type": "code",
   "execution_count": null,
   "metadata": {},
   "outputs": [],
   "source": [
    "%%R\n",
    "returnNA  <- function() {\n",
    "  return(NA)\n",
    "}\n",
    "\n",
    "returnNA()"
   ]
  },
  {
   "cell_type": "code",
   "execution_count": null,
   "metadata": {},
   "outputs": [],
   "source": [
    "%%R\n",
    "?return"
   ]
  },
  {
   "cell_type": "markdown",
   "metadata": {},
   "source": [
    "The function reads the outcome-of-care-measures.csv file"
   ]
  },
  {
   "cell_type": "code",
   "execution_count": null,
   "metadata": {},
   "outputs": [],
   "source": [
    "%%R\n",
    "df  <- read.csv('./outcome-of-care-measures.csv',\n",
    "      colClasses=c('Hospital.30.Day.Death..Mortality..Rates.from.Heart.Attack'='character',\n",
    "                   'Hospital.30.Day.Death..Mortality..Rates.from.Heart.Failure'='character',\n",
    "                   'Hospital.30.Day.Death..Mortality..Rates.from.Pneumonia'='character',\n",
    "                   'Hospital.Name'='character'))\n",
    "\n",
    "df$Hospital.30.Day.Death..Mortality..Rates.from.Heart.Attack  <- as.numeric(df$Hospital.30.Day.Death..Mortality..Rates.from.Heart.Attack)\n",
    "\n",
    "df$Hospital.30.Day.Death..Mortality..Rates.from.Heart.Failure  <- as.numeric(df$Hospital.30.Day.Death..Mortality..Rates.from.Heart.Failure)\n",
    "\n",
    "df$Hospital.30.Day.Death..Mortality..Rates.from.Pneumonia  <- as.numeric(df$Hospital.30.Day.Death..Mortality..Rates.from.Pneumonia)"
   ]
  },
  {
   "cell_type": "code",
   "execution_count": null,
   "metadata": {},
   "outputs": [],
   "source": [
    "%%R\n",
    "class(df$Hospital.30.Day.Death..Mortality..Rates.from.Heart.Attack)\n",
    "class(df$Hospital.30.Day.Death..Mortality..Rates.from.Heart.Failure)\n",
    "class(df$Hospital.30.Day.Death..Mortality..Rates.from.Pneumonia)"
   ]
  },
  {
   "cell_type": "code",
   "execution_count": null,
   "metadata": {},
   "outputs": [],
   "source": [
    "%%R\n",
    "state  <- \"NY\"\n",
    "outcome  <- \"heart attack\"\n",
    "outcome  <- \"heart failure\"\n",
    "outcome  <- \"penumonia\"\n",
    "outcomes  <- c(\"heart attack\", \"heart failure\", \"pneumonia\")"
   ]
  },
  {
   "cell_type": "markdown",
   "metadata": {},
   "source": [
    "refer\n",
    "[link1](http://stackoverflow.com/a/1296745/2356016)"
   ]
  },
  {
   "cell_type": "code",
   "execution_count": null,
   "metadata": {},
   "outputs": [],
   "source": [
    "%%R\n",
    "if(outcome == \"heart attack\") {\n",
    "  df1  <- df[df$State == state,c(2,11)]\n",
    "  names(df1)[2]  <- \"Rate\"\n",
    "}\n",
    "\n",
    "if(outcome == \"heart failure\") {\n",
    "  df1  <- df[df$State == state,c(2,17)]\n",
    "  names(df1)[2]  <- \"Rate\"\n",
    "}\n",
    "\n",
    "\n",
    "if(outcome == \"pneumonia\") {\n",
    "  df1  <- df[df$State == state,c(2,23)]\n",
    "  names(df1)[2]  <- \"Rate\"\n",
    "}\n",
    "# Remove rows where Ratings are not known.\n",
    "df1  <- df1[!is.na(df1$Rate),]\n",
    "# Order the dataframe by Names to help in Ranking\n",
    "df1  <- df1[order(df1[1]),]\n",
    "head(df1)\n",
    "tail(df1)"
   ]
  },
  {
   "cell_type": "code",
   "execution_count": null,
   "metadata": {},
   "outputs": [],
   "source": [
    "%%R\n",
    "?rank"
   ]
  },
  {
   "cell_type": "code",
   "execution_count": null,
   "metadata": {},
   "outputs": [],
   "source": [
    "%%R\n",
    "?order"
   ]
  },
  {
   "cell_type": "code",
   "execution_count": null,
   "metadata": {},
   "outputs": [],
   "source": [
    "%%R\n",
    "class(df)"
   ]
  },
  {
   "cell_type": "markdown",
   "metadata": {},
   "source": [
    "Assign rank to dataframe"
   ]
  },
  {
   "cell_type": "code",
   "execution_count": null,
   "metadata": {},
   "outputs": [],
   "source": [
    "%%R\n",
    "df1$rank  <- rank(df1$Rate,ties.method=\"first\")"
   ]
  },
  {
   "cell_type": "markdown",
   "metadata": {},
   "source": [
    "Test the results by viewing the results by sorting by ranks"
   ]
  },
  {
   "cell_type": "code",
   "execution_count": null,
   "metadata": {},
   "outputs": [],
   "source": [
    "%%R\n",
    "df1[order(df1[3]),]\n",
    "head(df1[order(df1[3]),],20)\n",
    "tail(df1[order(df1[3]),],20)"
   ]
  },
  {
   "cell_type": "markdown",
   "metadata": {},
   "source": [
    "Find min max and num specific ranking rows"
   ]
  },
  {
   "cell_type": "code",
   "execution_count": null,
   "metadata": {},
   "outputs": [],
   "source": [
    "%%R\n",
    "df1[df1$rank == max(df1$rank),1]\n",
    "df1[df1$rank == min(df1$rank),1]\n",
    "df1[df1$rank == 1,1]\n",
    "df1[df1$rank == 1.0,1]\n",
    "df1[df1$rank == 171,1]"
   ]
  },
  {
   "cell_type": "markdown",
   "metadata": {},
   "source": [
    "Return the results"
   ]
  },
  {
   "cell_type": "code",
   "execution_count": null,
   "metadata": {},
   "outputs": [],
   "source": [
    "%%R\n",
    "if (num == \"best\") {\n",
    "  return (df1[df1$rank == min(df1$rank),1])\n",
    "} else if (num == \"worst\") {\n",
    "  return (df1[df1$rank == max(df1$rank),1])\n",
    "} else if ((num <= max(df1$rank)) | (num >= min(df1$rank))) {\n",
    "  return (df1[df1$rank == num,1])\n",
    "} else {\n",
    "  return (NA)\n",
    "}"
   ]
  },
  {
   "cell_type": "code",
   "execution_count": null,
   "metadata": {},
   "outputs": [],
   "source": [
    "%%R\n",
    "num  <-  \"best\"\n",
    "\n",
    "if (num == \"best\") {\n",
    "  return(df1[df1$rank == min(df1$rank),1])\n",
    "}"
   ]
  },
  {
   "cell_type": "markdown",
   "metadata": {},
   "source": [
    "Remove results with NA ratings"
   ]
  },
  {
   "cell_type": "code",
   "execution_count": null,
   "metadata": {},
   "outputs": [],
   "source": [
    "%%R\n",
    "df1[!is.na(df1$Rate),]"
   ]
  },
  {
   "cell_type": "code",
   "execution_count": null,
   "metadata": {},
   "outputs": [],
   "source": [
    "%%R\n",
    "str(df)"
   ]
  },
  {
   "cell_type": "code",
   "execution_count": null,
   "metadata": {},
   "outputs": [],
   "source": [
    "%%R\n",
    "names(df)"
   ]
  },
  {
   "cell_type": "code",
   "execution_count": null,
   "metadata": {},
   "outputs": [],
   "source": [
    "%%R\n",
    "head(df)"
   ]
  },
  {
   "cell_type": "code",
   "execution_count": null,
   "metadata": {},
   "outputs": [],
   "source": [
    "%%R\n",
    "grep(\"^Hospital.30.Day.Death..Mortality..Rates.from\",names(df))\n",
    "names(df)[grep(\"^Hospital.30.Day.Death..Mortality..Rates.from\",names(df))]"
   ]
  },
  {
   "cell_type": "markdown",
   "metadata": {},
   "source": [
    "Question#4\n",
    "=================================================\n",
    "##4 Ranking hospitals in all states\n",
    "\n",
    "Write a function called rankall that takes two arguments: an outcome name (outcome) and a hospital rank-ing (num). The function reads the outcome-of-care-measures.csv file and returns a 2-column data frame containing the hospital in each state that has the ranking specified in num. For example the function call rankall(\"heart attack\", \"best\") would return a data frame containing the names of the hospitals that are the best in their respective states for 30-day heart attack death rates. The function should return a value for every state (some may be NA). The first column in the data frame is named hospital, which contains the hospital name, and the second column is named state, which contains the 2-character abbreviation for the state name. Hospitals that do not have data on a particular outcome should be excluded from the set of hospitals when deciding the rankings.\n",
    "\n",
    "\n",
    "\n",
    "Reset everything"
   ]
  },
  {
   "cell_type": "code",
   "execution_count": null,
   "metadata": {},
   "outputs": [],
   "source": [
    "%%R\n",
    "rm(list = ls())"
   ]
  },
  {
   "cell_type": "code",
   "execution_count": null,
   "metadata": {},
   "outputs": [],
   "source": [
    "%%R\n",
    "rankall  <- function(outcome, num = \"best\") {\n",
    "  outcomes <- c(\"heart attack\", \"heart failure\", \"pneumonia\")\n",
    "  \n",
    "  if (!(outcome %in% outcomes)) {\n",
    "        stop(\"invalid outcome\")\n",
    "  }\n",
    "  \n",
    "  df <- read.csv(\"./outcome-of-care-measures.csv\", \n",
    "        colClasses = c(Hospital.30.Day.Death..Mortality..Rates.from.Heart.Attack = \"character\", \n",
    "                        Hospital.30.Day.Death..Mortality..Rates.from.Heart.Failure = \"character\", \n",
    "                        Hospital.30.Day.Death..Mortality..Rates.from.Pneumonia = \"character\", \n",
    "                        Hospital.Name = \"character\"))\n",
    "  \n",
    "  # convert ratings to numeric\n",
    "  df[, 11] <- suppressWarnings(as.numeric(df[, 11]))\n",
    "  df[, 17] <- suppressWarnings(as.numeric(df[, 17]))\n",
    "  df[, 23] <- suppressWarnings(as.numeric(df[, 23]))\n",
    "  \n",
    "  # Create a subset dataframe for given outcome\n",
    "  if (outcome == \"heart attack\") {\n",
    "      df1 <- df[, c(2, 7, 11)]\n",
    "  }else if (outcome == \"heart failure\") {\n",
    "      df1 <- df[, c(2, 7, 17)]\n",
    "  } else if (outcome == \"pneumonia\") {\n",
    "      df1 <- df[, c(2, 7, 23)]\n",
    "  }\n",
    "  \n",
    "  #Rename Column name of Hospital name to Hospital\n",
    "  names(df1)[1]  <- \"hospital\"\n",
    "  names(df1)[2]  <- \"state\"\n",
    "  names(df1)[3]  <- \"Rate\"\n",
    "  \n",
    "  # Remove rows where Ratings are not known.\n",
    "  df1 <- df1[!is.na(df1$Rate), ]\n",
    "  #head(df1)\n",
    "\n",
    "  library(data.table)\n",
    "  dt <- as.data.table(df1[,c(\"hospital\",\"state\",\"Rate\")])\n",
    "  #head(dt)\n",
    "  # Add ranking to the table\n",
    "  #dt1  <- dt[,list(hospital, rank = rank(Rate,ties.method = \"first\")), by = state]\n",
    "  setkey(dt,state,Rate)\n",
    "  dt1  <- dt[,list(hospital, rank = rank(Rate,ties.method = \"random\")), by = state]\n",
    "  #dt1  <- dt[,list(hospital, Rate, rank = rank(Rate,ties.method = \"last\")), by = state]\n",
    "\n",
    "  #=======================\n",
    "  if (num == \"best\") {\n",
    "    dt2  <- dt1[,list(rank = 1),by = state]\n",
    "  } else if (num == \"worst\") {\n",
    "    dt2  <- dt1[,list(rank = max(rank)),by = state]\n",
    "  } else {\n",
    "    dt2  <- dt1[,list(rank = num),by = state]\n",
    "  }\n",
    "  #=======================\n",
    "  setkey(dt2,state,rank)\n",
    "  setkey(dt1,state,rank)\n",
    "  return(as.data.frame(dt1[dt2,][,list(hospital, state,rank)]))\n",
    "}"
   ]
  },
  {
   "cell_type": "markdown",
   "metadata": {},
   "source": [
    "Unit tests"
   ]
  },
  {
   "cell_type": "code",
   "execution_count": null,
   "metadata": {},
   "outputs": [],
   "source": [
    "%%R\n",
    "rm(list=ls())\n",
    "source('./rankall.R')\n",
    "head(rankall(\"heart attack\", 20), 10)\n",
    "tail(rankall(\"pneumonia\", \"worst\"), 3)\n",
    "tail(rankall(\"heart failure\"), 10)\n",
    "class(rankall(\"heart failure\", 10))\n",
    "\n",
    "rankall(\"heart failure\", 10)\n",
    "rankall(\"heart failure\", 15)\n",
    "rankall(\"heart failure\")\n",
    "rankall(\"pneumonia\", \"worst\")"
   ]
  },
  {
   "cell_type": "markdown",
   "metadata": {},
   "source": [
    "Submission"
   ]
  },
  {
   "cell_type": "code",
   "execution_count": null,
   "metadata": {},
   "outputs": [],
   "source": [
    "%%R\n",
    "source(\"http://d396qusza40orc.cloudfront.net/rprog%2Fscripts%2Fsubmitscript3.R\")\n",
    "submit()"
   ]
  },
  {
   "cell_type": "markdown",
   "metadata": {},
   "source": [
    "Iterations of previous attempts"
   ]
  },
  {
   "cell_type": "code",
   "execution_count": null,
   "metadata": {},
   "outputs": [],
   "source": [
    "%%R\n",
    "  ##\n",
    "  rm(dt1)\n",
    "  num = 4\n",
    "  dt1  <- dt[,list(rank = num),by = State]\n",
    "  #dt1\n",
    "  setkey(dt1,State,rank)\n",
    "  #dt[dt1,State,Hospital.Name]\n",
    "  #dt[dt1,Hospital.Name,dt1$State] #12 is not missed \n",
    "  merge(dt1,dt,all.x = T)[,State,Hospital.Name]\n",
    "  \n",
    "  \n",
    "  \n",
    "  \n",
    "  ## Worst Ranks\n",
    "  dt1  <- dt[,list(rank = max(rank)),by = State]\n",
    "  dt1\n",
    "  head(dt1)\n",
    "  setkey(dt1,State,rank)\n",
    "  key(dt1)\n",
    "  key(dt)\n",
    "  #dt[dt1,]\n",
    "  #dt[dt1,Hospital.Name,State]\n",
    "  dt[dt1,State,Hospital.Name]\n",
    "  #dt[dt1,dt1$State,Hospital.Name] ## So many number of rows\n",
    "  dt[dt1,Hospital.Name,dt1$State] ## Opposite columnn order\n",
    "  merge(dt1,dt,all.x = T)[,State,Hospital.Name]\n",
    "  ##\n",
    "  rm(dt1)\n",
    "  num = 4\n",
    "  dt1  <- dt[,list(rank = num),by = State]\n",
    "  #dt1\n",
    "  setkey(dt1,State,rank)\n",
    "  #dt[dt1,State,Hospital.Name]\n",
    "  #dt[dt1,Hospital.Name,dt1$State] #12 is not missed \n",
    "  merge(dt1,dt,all.x = T)[,State,Hospital.Name]\n",
    "  \n",
    "  ##\n",
    "  rm(dt1)\n",
    "  num = 10\n",
    "  dt1\n",
    "  dt1  <- dt[,list(rank = num),by = State]\n",
    "  setkey(dt1,State,rank)\n",
    "  #dt[dt1,Hospital.Name,dt1$State] #12 is not missed \n",
    "  merge(dt1,dt,all.x = T)[,State,Hospital.Name]\n",
    "  ##\n",
    "  rm(dt1)\n",
    "  num = 1\n",
    "  dt1  <- dt[,list(rank = num),by = State]\n",
    "  setkey(dt1,State,rank)\n",
    "  #dt[dt1,Hospital.Name,dt1$State] #12 is not missed\n",
    "  merge(dt1,dt,all.x = T)[,State,Hospital.Name]"
   ]
  },
  {
   "cell_type": "code",
   "execution_count": null,
   "metadata": {},
   "outputs": [],
   "source": [
    "%%R\n",
    "  rm(list = ls())\n",
    "  df <- read.csv(\"./outcome-of-care-measures.csv\", \n",
    "        colClasses = c(Hospital.30.Day.Death..Mortality..Rates.from.Heart.Attack = \"character\", \n",
    "                        Hospital.30.Day.Death..Mortality..Rates.from.Heart.Failure = \"character\", \n",
    "                        Hospital.30.Day.Death..Mortality..Rates.from.Pneumonia = \"character\", \n",
    "                        Hospital.Name = \"character\"))\n",
    "  \n",
    "  df[, 11] <- suppressWarnings(as.numeric(df[, 11]))\n",
    "  df[, 17] <- suppressWarnings(as.numeric(df[, 17]))\n",
    "  df[, 23] <- suppressWarnings(as.numeric(df[, 23]))\n",
    "\n",
    "  #df$State\n",
    "  #grep(\"State\", names(df))\n",
    "  \n",
    "  #Subset to have only Heart Attack Data\n",
    "  df1 <- df[, c(2, 7, 11)]\n",
    "  names(df1)[3] <- \"Rate\"\n",
    "  head(df1)\n",
    "  tail(df1)\n",
    "  # Remove rows where Ratings are not known.\n",
    "  df1 <- df1[!is.na(df1$Rate), ]\n",
    "  \n",
    "  # Order the dataframe by Names to help in Ranking. This might not be required with data.table\n",
    "  df1 <- df1[order(df1[,1], df1[,2]), ]\n",
    "  ?order\n",
    "  #install.packages(\"data.table\")\n",
    "  library(data.table)\n",
    "  rm(dt)\n",
    "  head(df1)\n",
    "  dt <- as.data.table(df1[,c(\"Hospital.Name\",\"State\",\"Rate\")])\n",
    "  #setkey(dt,State,Hospital.Name)\n",
    "  #key(dt)\n",
    "  head(dt)\n",
    "  dt1  <- dt[,list(rank = rank(Rate,ties.method = \"first\")), by = State]\n",
    "  dt$rank  <- dt1$rank\n",
    "  \n",
    "  head(dt)\n",
    "  \n",
    "  setkey(dt,rank)\n",
    "  key(dt)\n",
    "  head(dt)\n",
    "  dt[J(4)][,Hospital.Name,State]\n",
    "\n",
    "\n",
    "  dt[dt$rank == 4,Hospital.Name,State]\n",
    "  dt[dt$rank == 1,Hospital.Name,State]\n",
    "  dt[dt$rank == 10,Hospital.Name,State]\n",
    "\n",
    "\n",
    "  df1$rank  <- dt1$V1\n",
    "  \n",
    "  \n",
    "  head(df1)\n",
    "  head(df1[order(df1[1],df1[4]),],20)\n",
    "  tail(df1[order(df1[1],df1[4]),],20)\n",
    "\n",
    "\n",
    "  \n",
    "\n",
    "  # Set Rank\n",
    "  df1$rank <- rank(df1$Rate, ties.method = \"first\")\n",
    "\n",
    "  # Return the values based on data provided\n",
    "  if (num == \"best\") {\n",
    "        return(df1[df1$rank == min(df1$rank), c(2,1)])\n",
    "  } else if (num == \"worst\") {\n",
    "        return(df1[df1$rank == max(df1$rank), c(2,1)])\n",
    "  } else if ((num <= max(df1$rank)) | (num >= min(df1$rank))) {\n",
    "        return(df1[df1$rank == num, c(2,1)])\n",
    "  } else if ((num > max(df1$rank)) | (num < min(df1$rank))) {\n",
    "        return(c(NA, state))\n",
    "  }"
   ]
  },
  {
   "cell_type": "code",
   "execution_count": null,
   "metadata": {},
   "outputs": [],
   "source": [
    "%%R\n",
    "?tapply"
   ]
  }
 ],
 "metadata": {},
 "nbformat": 4,
 "nbformat_minor": 2
}

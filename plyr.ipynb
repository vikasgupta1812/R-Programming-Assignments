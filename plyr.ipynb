{
 "cells": [
  {
   "cell_type": "markdown",
   "metadata": {},
   "source": [
    "plyr\n",
    "========================================================\n",
    "It epitomizes the “split-apply-combine” method of data manipulation. The core of plyr consists of functions such as ddply, llply and ldply. All of the manipulation functions consist of five letters, with the last three always being ply. The first letter indicates the type of input and the second letter indicates the type of output. For instance, ddply takes in a data.frame and outputs a data.frame, llply takes in a list and outputs a list and ldply takes in a list and outputs a data.frame.\n",
    "\n",
    "\n",
    "ddply\n",
    "\n",
    "ddply takes a data.frame, splits it according to some variable(s), performs a desired action on it and returns a data.frame. To learn about ddply we look at the baseball data that come with plyr."
   ]
  },
  {
   "cell_type": "code",
   "execution_count": null,
   "metadata": {},
   "outputs": [],
   "source": [
    "%%R\n",
    "require(plyr)"
   ]
  },
  {
   "cell_type": "code",
   "execution_count": null,
   "metadata": {},
   "outputs": [],
   "source": [
    "%%R\n",
    "head(baseball)"
   ]
  },
  {
   "cell_type": "markdown",
   "metadata": {},
   "source": [
    "A common statistic in baseball is On Base Percentage (OBP), which is calculated as\n",
    "\n",
    "\n",
    "(H + BB + HBP)/(AB + BB + HBP + SF)\n",
    "\n",
    "\n",
    "where\n",
    "H = Hits\n",
    "BB = Bases on Balls (Walks)\n",
    "HBP = Times Hit by Pitch\n",
    "AB = At Bats\n",
    "SF = Sacrifice Flies\n",
    "\n",
    "\n",
    "\n",
    "Before 1954 sacrifice flies were counted as part of sacrifice hits, which includes bunts, so for players before 1954 sacrifice flies should be assumed to be 0. That will be the first change we make to the data. There are many instances of HBP (hit by pitch) that are NA, so we set those to 0 as well. We also exclude players with less than 50 at bats in a season.\n",
    "\n",
    "\n",
    "\n",
    "subsetting with [ is faster than using ifelse"
   ]
  },
  {
   "cell_type": "code",
   "execution_count": null,
   "metadata": {},
   "outputs": [],
   "source": [
    "%%R\n",
    "baseball$sf[baseball$year < 1954] <- 0"
   ]
  },
  {
   "cell_type": "markdown",
   "metadata": {},
   "source": [
    "check that it worked"
   ]
  },
  {
   "cell_type": "code",
   "execution_count": null,
   "metadata": {},
   "outputs": [],
   "source": [
    "%%R\n",
    "any(is.na(baseball$sf))"
   ]
  },
  {
   "cell_type": "markdown",
   "metadata": {},
   "source": [
    "set NA hbp's to 0"
   ]
  },
  {
   "cell_type": "code",
   "execution_count": null,
   "metadata": {},
   "outputs": [],
   "source": [
    "%%R\n",
    "baseball$hbp[is.na(baseball$hbp)] <- 0"
   ]
  },
  {
   "cell_type": "markdown",
   "metadata": {},
   "source": [
    "only keep players with at least 50 at bats in a season"
   ]
  },
  {
   "cell_type": "code",
   "execution_count": null,
   "metadata": {},
   "outputs": [],
   "source": [
    "%%R\n",
    "baseball <- baseball[baseball$ab >= 50, ]"
   ]
  },
  {
   "cell_type": "markdown",
   "metadata": {},
   "source": [
    "Calculating the OBP for a given player in a given year is easy enough with just vector operations."
   ]
  },
  {
   "cell_type": "code",
   "execution_count": null,
   "metadata": {},
   "outputs": [],
   "source": [
    "%%R\n",
    "baseball$OBP <- with(baseball, (h + bb + hbp)/(ab + bb + hbp + sf))\n",
    "tail(baseball)"
   ]
  },
  {
   "cell_type": "markdown",
   "metadata": {},
   "source": [
    "Here we used a new function, with. This allows us to specify the columns of a data.frame without having to specify the data.frame name each time.\n",
    "\n",
    "\n",
    "To calculate the OBP for a player’s entire career we cannot just average his individual season OBPs; we need to calculate and sum the numerator, and then divide by the sum of the denominator. This requires the use of ddply.\n",
    "\n",
    "First we make a function to do that calculation, then we use ddply to run that calculation for each player.\n",
    "\n",
    "# this function assumes that the column names for the data are as\n",
    "# below"
   ]
  },
  {
   "cell_type": "code",
   "execution_count": null,
   "metadata": {},
   "outputs": [],
   "source": [
    "%%R\n",
    "obp <- function(data)\n",
    " {\n",
    "     c(OBP = with(data, sum(h + bb + hbp)/sum(ab + bb + hbp + sf)))\n",
    " }"
   ]
  },
  {
   "cell_type": "markdown",
   "metadata": {},
   "source": [
    "use ddply to calculate career OBP for each player"
   ]
  },
  {
   "cell_type": "code",
   "execution_count": null,
   "metadata": {},
   "outputs": [],
   "source": [
    "%%R\n",
    "careerOBP <- ddply(baseball, .variables = \"id\", .fun = obp)"
   ]
  },
  {
   "cell_type": "markdown",
   "metadata": {},
   "source": [
    "sort the results by OBP"
   ]
  },
  {
   "cell_type": "code",
   "execution_count": null,
   "metadata": {},
   "outputs": [],
   "source": [
    "%%R\n",
    "careerOBP <- careerOBP[order(careerOBP$OBP, decreasing = TRUE), ]"
   ]
  }
 ],
 "metadata": {},
 "nbformat": 4,
 "nbformat_minor": 2
}

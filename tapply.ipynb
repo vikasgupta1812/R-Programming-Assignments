{
 "cells": [
  {
   "cell_type": "markdown",
   "metadata": {},
   "source": [
    "tapply\n",
    "========================================================\n",
    "[The tapply function](http://www.ats.ucla.edu/stat/r/library/advanced_function_r.htm#tapply)\n",
    "\n",
    "Applies a function to each cell of a ragged array.\n",
    "\n",
    "tapply(array, indicies, function, ..., simplify)\n",
    "The function is applied to each of the cells which are defined by the categorical variables listed in argument indicies. If the results of applying function to each cell is a single number then the results are returned in a multi-way array which has as many dimensions as there are components in the argument indicies. For example, if the argument indicies = c(gender, employed) then the result will be a 2 by 2 matrix with rows defined by male, female and columns defined by employed, unemployed. If the results are not a single value then the results are in a list with an dim attribute which means that it prints like a list but the user access the components by using subscripts like in an array."
   ]
  },
  {
   "cell_type": "code",
   "execution_count": null,
   "metadata": {},
   "outputs": [],
   "source": [
    "%%R\n",
    "x1 <- runif(16)\n",
    "x1"
   ]
  },
  {
   "cell_type": "code",
   "execution_count": null,
   "metadata": {},
   "outputs": [],
   "source": [
    "%%R\n",
    "cat1 <- rep(1:4, 4)\n",
    "cat1"
   ]
  },
  {
   "cell_type": "code",
   "execution_count": null,
   "metadata": {},
   "outputs": [],
   "source": [
    "%%R\n",
    "cat2 <- c(rep(1, 8), rep(2, 8))\n",
    "cat2"
   ]
  },
  {
   "cell_type": "code",
   "execution_count": null,
   "metadata": {},
   "outputs": [],
   "source": [
    "%%R\n",
    "mat2.df <- data.frame(x1)\n",
    "names(mat2.df) <- c(\"x1\")\n",
    "mat2.df$cat1 <- cat1\n",
    "mat2.df$cat2 <- cat2\n",
    "mat2.df"
   ]
  },
  {
   "cell_type": "code",
   "execution_count": null,
   "metadata": {},
   "outputs": [],
   "source": [
    "%%R\n",
    "tapply(mat2.df$x1, mat2.df$cat1, mean)"
   ]
  },
  {
   "cell_type": "code",
   "execution_count": null,
   "metadata": {},
   "outputs": [],
   "source": [
    "%%R\n",
    "tapply(mat2.df$x1, mat2.df$cat2, mean)"
   ]
  },
  {
   "cell_type": "code",
   "execution_count": null,
   "metadata": {},
   "outputs": [],
   "source": [
    "%%R\n",
    "tapply(mat2.df$x1, list(mat2.df$cat1, mat2.df$cat2), mean)"
   ]
  }
 ],
 "metadata": {},
 "nbformat": 4,
 "nbformat_minor": 2
}
